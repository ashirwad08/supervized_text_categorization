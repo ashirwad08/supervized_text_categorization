{
 "cells": [
  {
   "cell_type": "markdown",
   "metadata": {},
   "source": [
    "**WARNING: This is a rough workpad. Steps may not be sequential and there is no coherent narrative.**"
   ]
  },
  {
   "cell_type": "code",
   "execution_count": 1,
   "metadata": {
    "collapsed": true
   },
   "outputs": [],
   "source": [
    "import pandas as pd\n",
    "import numpy as np\n",
    "import nltk\n",
    "from textblob import TextBlob\n",
    "from sklearn.feature_extraction.text import CountVectorizer\n",
    "from sklearn.feature_extraction.text import TfidfTransformer\n",
    "from sklearn.feature_extraction.text import TfidfVectorizer\n",
    "from sklearn.cross_validation import train_test_split\n",
    "from sklearn.metrics import confusion_matrix\n",
    "from sklearn.metrics import f1_score\n",
    "from sklearn.linear_model import LogisticRegression\n",
    "from csv import DictReader\n",
    "from sklearn import preprocessing\n",
    "from sklearn.ensemble import RandomForestClassifier\n",
    "from sklearn.svm import SVC\n",
    "\n",
    "import re\n"
   ]
  },
  {
   "cell_type": "code",
   "execution_count": 2,
   "metadata": {
    "collapsed": false
   },
   "outputs": [],
   "source": [
    "train = pd.read_csv('./../data/train.csv')\n",
    "test = pd.read_csv('./../data/test.csv')"
   ]
  },
  {
   "cell_type": "code",
   "execution_count": 3,
   "metadata": {
    "collapsed": true
   },
   "outputs": [],
   "source": [
    "test.category.to_csv('./../pickles/test_targets.csv', header=True, index=False)"
   ]
  },
  {
   "cell_type": "code",
   "execution_count": 4,
   "metadata": {
    "collapsed": false
   },
   "outputs": [
    {
     "data": {
      "text/html": [
       "<div>\n",
       "<table border=\"1\" class=\"dataframe\">\n",
       "  <thead>\n",
       "    <tr style=\"text-align: right;\">\n",
       "      <th></th>\n",
       "      <th>category</th>\n",
       "      <th>text</th>\n",
       "    </tr>\n",
       "  </thead>\n",
       "  <tbody>\n",
       "    <tr>\n",
       "      <th>1156</th>\n",
       "      <td>work</td>\n",
       "      <td>It's not that I don't love my job, I just hate...</td>\n",
       "    </tr>\n",
       "  </tbody>\n",
       "</table>\n",
       "</div>"
      ],
      "text/plain": [
       "     category                                               text\n",
       "1156     work  It's not that I don't love my job, I just hate..."
      ]
     },
     "execution_count": 4,
     "metadata": {},
     "output_type": "execute_result"
    }
   ],
   "source": [
    "test.sample()"
   ]
  },
  {
   "cell_type": "code",
   "execution_count": 5,
   "metadata": {
    "collapsed": true
   },
   "outputs": [],
   "source": [
    "#add msg length\n",
    "train['msg_len'] = train['text'].apply(lambda msg: len(str(msg).decode('utf8').split(' ')))"
   ]
  },
  {
   "cell_type": "code",
   "execution_count": 6,
   "metadata": {
    "collapsed": true
   },
   "outputs": [],
   "source": [
    "#add message sentiment and polarity scores\n",
    "train['polarity']=train.text.apply(lambda msg: TextBlob(str(msg).decode('utf-8')).sentiment[0])\n",
    "train['subjectivity']=train.text.apply(lambda msg: TextBlob(str(msg).decode('utf-8')).sentiment[1])"
   ]
  },
  {
   "cell_type": "code",
   "execution_count": 7,
   "metadata": {
    "collapsed": false
   },
   "outputs": [
    {
     "data": {
      "text/plain": [
       "(14048, 5)"
      ]
     },
     "execution_count": 7,
     "metadata": {},
     "output_type": "execute_result"
    }
   ],
   "source": [
    "train.shape"
   ]
  },
  {
   "cell_type": "code",
   "execution_count": 8,
   "metadata": {
    "collapsed": false
   },
   "outputs": [
    {
     "data": {
      "text/html": [
       "<div>\n",
       "<table border=\"1\" class=\"dataframe\">\n",
       "  <thead>\n",
       "    <tr style=\"text-align: right;\">\n",
       "      <th></th>\n",
       "      <th>category</th>\n",
       "      <th>text</th>\n",
       "      <th>msg_len</th>\n",
       "      <th>polarity</th>\n",
       "      <th>subjectivity</th>\n",
       "    </tr>\n",
       "  </thead>\n",
       "  <tbody>\n",
       "    <tr>\n",
       "      <th>319</th>\n",
       "      <td>food</td>\n",
       "      <td>That awkward moment you have a hot waiter and ...</td>\n",
       "      <td>23</td>\n",
       "      <td>-0.175</td>\n",
       "      <td>0.925</td>\n",
       "    </tr>\n",
       "  </tbody>\n",
       "</table>\n",
       "</div>"
      ],
      "text/plain": [
       "    category                                               text  msg_len  \\\n",
       "319     food  That awkward moment you have a hot waiter and ...       23   \n",
       "\n",
       "     polarity  subjectivity  \n",
       "319    -0.175         0.925  "
      ]
     },
     "execution_count": 8,
     "metadata": {},
     "output_type": "execute_result"
    }
   ],
   "source": [
    "train.sample()"
   ]
  },
  {
   "cell_type": "code",
   "execution_count": 9,
   "metadata": {
    "collapsed": true
   },
   "outputs": [],
   "source": [
    "#POS features\n",
    "parts={\n",
    "    'CC':0,\n",
    "    'CD':0,\n",
    "    'DT':0,\n",
    "    'EX':0,\n",
    "    'FW':0,\n",
    "    'IN':0,\n",
    "    'JJ':0,\n",
    "    'JJR':0,\n",
    "    'JJS':0,\n",
    "    'LS':0,\n",
    "    'MD':0,\n",
    "    'NN':0,\n",
    "    'NNS':0,\n",
    "    'NNP':0,\n",
    "    'NNPS':0,\n",
    "    'PDT':0,\n",
    "    'POS':0,\n",
    "    'PRP':0,\n",
    "    'PRP$':0,\n",
    "    'RB':0,\n",
    "    'RBR':0,\n",
    "    'RBS':0,\n",
    "    'RP':0,\n",
    "    'SYM':0,\n",
    "    'TO':0,\n",
    "    'UH':0,\n",
    "    'VB':0,\n",
    "    'VBD':0,\n",
    "    'VBG':0,\n",
    "    'VBN':0,\n",
    "    'VBP':0,\n",
    "    'VBZ':0,\n",
    "    'WDT':0,\n",
    "    'WP':0,\n",
    "    'WP$':0,\n",
    "    'WRB':0}\n",
    "\n",
    "\n",
    "\n",
    "\n",
    "for key in parts.keys():\n",
    "    train[key]=0\n",
    "\n",
    "\n",
    "for i in np.arange(0,train.shape[0]-1):\n",
    "    for word,pos in TextBlob(str(train.text[i]).decode('utf-8')).tags:\n",
    "        train.loc[i,pos] += 1"
   ]
  },
  {
   "cell_type": "code",
   "execution_count": 10,
   "metadata": {
    "collapsed": false
   },
   "outputs": [
    {
     "data": {
      "text/html": [
       "<div>\n",
       "<table border=\"1\" class=\"dataframe\">\n",
       "  <thead>\n",
       "    <tr style=\"text-align: right;\">\n",
       "      <th></th>\n",
       "      <th>category</th>\n",
       "      <th>text</th>\n",
       "      <th>msg_len</th>\n",
       "      <th>polarity</th>\n",
       "      <th>subjectivity</th>\n",
       "      <th>WRB</th>\n",
       "      <th>PRP$</th>\n",
       "      <th>VBG</th>\n",
       "      <th>FW</th>\n",
       "      <th>CC</th>\n",
       "      <th>...</th>\n",
       "      <th>JJR</th>\n",
       "      <th>SYM</th>\n",
       "      <th>VB</th>\n",
       "      <th>TO</th>\n",
       "      <th>UH</th>\n",
       "      <th>LS</th>\n",
       "      <th>RB</th>\n",
       "      <th>WDT</th>\n",
       "      <th>NNS</th>\n",
       "      <th>NNP</th>\n",
       "    </tr>\n",
       "  </thead>\n",
       "  <tbody>\n",
       "    <tr>\n",
       "      <th>6493</th>\n",
       "      <td>school</td>\n",
       "      <td>Prom without a date is gona suck this year</td>\n",
       "      <td>9</td>\n",
       "      <td>0.0</td>\n",
       "      <td>0.0</td>\n",
       "      <td>0</td>\n",
       "      <td>0</td>\n",
       "      <td>0</td>\n",
       "      <td>0</td>\n",
       "      <td>0</td>\n",
       "      <td>...</td>\n",
       "      <td>0</td>\n",
       "      <td>0</td>\n",
       "      <td>0</td>\n",
       "      <td>0</td>\n",
       "      <td>0</td>\n",
       "      <td>0</td>\n",
       "      <td>0</td>\n",
       "      <td>0</td>\n",
       "      <td>0</td>\n",
       "      <td>0</td>\n",
       "    </tr>\n",
       "  </tbody>\n",
       "</table>\n",
       "<p>1 rows × 41 columns</p>\n",
       "</div>"
      ],
      "text/plain": [
       "     category                                        text  msg_len  polarity  \\\n",
       "6493   school  Prom without a date is gona suck this year        9       0.0   \n",
       "\n",
       "      subjectivity  WRB  PRP$  VBG  FW  CC ...   JJR  SYM  VB  TO  UH  LS  RB  \\\n",
       "6493           0.0    0     0    0   0   0 ...     0    0   0   0   0   0   0   \n",
       "\n",
       "      WDT  NNS  NNP  \n",
       "6493    0    0    0  \n",
       "\n",
       "[1 rows x 41 columns]"
      ]
     },
     "execution_count": 10,
     "metadata": {},
     "output_type": "execute_result"
    }
   ],
   "source": [
    "train.sample()"
   ]
  },
  {
   "cell_type": "code",
   "execution_count": 11,
   "metadata": {
    "collapsed": true
   },
   "outputs": [],
   "source": [
    "#now, generate document term matrix of EMOJIS\n",
    "\n",
    "def emoji_parser(dat):\n",
    "    \"\"\"\n",
    "    Create a emoticon regex vocabulary and return counts of each as features to the passed in dataframe\n",
    "    \"\"\"\n",
    "#     emo_dict={'smile':re.compile(r':[-\\)]')',\n",
    "#     'wink':re.compile(r';[-\\)p]'),\n",
    "#     'sad':re.compile(r':[-\\(]'),\n",
    "#     'cool':re.compile(r'B\\)|:>'),\n",
    "#     'laugh':re.compile(r':[-dD]'),\n",
    "#     'cry':re.compile(r'D:|:[-s]'),\n",
    "#     'silly':re.compile(r':[-p]'),\n",
    "#     'other':re.compile(r':[-ox\\|\\/\\[@]|>:-\\)'),\n",
    "#     'pos_emos':re.compile(r':[\\*]|o:\\)|:3|\\(y\\)|<3'),\n",
    "#     'neg_emos':re.compile(r':[-!]|>:-o|\\(n\\)')}\n",
    "    \n",
    "    emo_dict={'smile':':[-\\)]',\n",
    "    'wink':';[-\\)p]',\n",
    "    'sad':':[-\\(]',\n",
    "    'cool':'B\\)|:>',\n",
    "    'laugh':':[-dD]',\n",
    "    'cry':'D:|:[-s]',\n",
    "    'silly':':[-p]',\n",
    "    'other':':[-ox\\|\\/\\[@]|>:-\\)',\n",
    "    'pos_emos':':[\\*]|o:\\)|:3|\\(y\\)|<3',\n",
    "    'neg_emos':':[-!]|>:-o|\\(n\\)'}\n",
    "    \n",
    "    #initialize emo columns\n",
    "    for key in emo_dict.keys():\n",
    "        dat[key] = 0\n",
    "    \n",
    "    #populate counts. For every message, check for key match and update count\n",
    "    for i in np.arange(0, dat.shape[0]-1):\n",
    "        msg = str(dat['text'][i]).decode('utf-8')\n",
    "        \n",
    "        for k, v in emo_dict.iteritems():\n",
    "            pattern = re.compile(v)\n",
    "            num_matches = len(pattern.findall(msg))\n",
    "            if num_matches:\n",
    "                dat.loc[i, k] += num_matches\n",
    "    \n",
    "    return dat"
   ]
  },
  {
   "cell_type": "code",
   "execution_count": 12,
   "metadata": {
    "collapsed": false
   },
   "outputs": [],
   "source": [
    "train = emoji_parser(train)"
   ]
  },
  {
   "cell_type": "code",
   "execution_count": 13,
   "metadata": {
    "collapsed": false
   },
   "outputs": [
    {
     "data": {
      "text/html": [
       "<div>\n",
       "<table border=\"1\" class=\"dataframe\">\n",
       "  <thead>\n",
       "    <tr style=\"text-align: right;\">\n",
       "      <th></th>\n",
       "      <th>category</th>\n",
       "      <th>text</th>\n",
       "      <th>msg_len</th>\n",
       "      <th>polarity</th>\n",
       "      <th>subjectivity</th>\n",
       "      <th>WRB</th>\n",
       "      <th>PRP$</th>\n",
       "      <th>VBG</th>\n",
       "      <th>FW</th>\n",
       "      <th>CC</th>\n",
       "      <th>...</th>\n",
       "      <th>wink</th>\n",
       "      <th>cry</th>\n",
       "      <th>silly</th>\n",
       "      <th>laugh</th>\n",
       "      <th>pos_emos</th>\n",
       "      <th>smile</th>\n",
       "      <th>cool</th>\n",
       "      <th>other</th>\n",
       "      <th>neg_emos</th>\n",
       "      <th>sad</th>\n",
       "    </tr>\n",
       "  </thead>\n",
       "  <tbody>\n",
       "    <tr>\n",
       "      <th>11409</th>\n",
       "      <td>relationships</td>\n",
       "      <td>I got together with someone and it was a long ...</td>\n",
       "      <td>40</td>\n",
       "      <td>-0.316667</td>\n",
       "      <td>0.641667</td>\n",
       "      <td>0</td>\n",
       "      <td>0</td>\n",
       "      <td>1</td>\n",
       "      <td>0</td>\n",
       "      <td>3</td>\n",
       "      <td>...</td>\n",
       "      <td>0</td>\n",
       "      <td>0</td>\n",
       "      <td>0</td>\n",
       "      <td>0</td>\n",
       "      <td>0</td>\n",
       "      <td>0</td>\n",
       "      <td>0</td>\n",
       "      <td>1</td>\n",
       "      <td>0</td>\n",
       "      <td>0</td>\n",
       "    </tr>\n",
       "    <tr>\n",
       "      <th>7888</th>\n",
       "      <td>misc</td>\n",
       "      <td>I couldn't sleep :-/</td>\n",
       "      <td>4</td>\n",
       "      <td>-0.250000</td>\n",
       "      <td>1.000000</td>\n",
       "      <td>0</td>\n",
       "      <td>0</td>\n",
       "      <td>0</td>\n",
       "      <td>0</td>\n",
       "      <td>0</td>\n",
       "      <td>...</td>\n",
       "      <td>0</td>\n",
       "      <td>1</td>\n",
       "      <td>1</td>\n",
       "      <td>1</td>\n",
       "      <td>0</td>\n",
       "      <td>1</td>\n",
       "      <td>0</td>\n",
       "      <td>1</td>\n",
       "      <td>1</td>\n",
       "      <td>1</td>\n",
       "    </tr>\n",
       "    <tr>\n",
       "      <th>5299</th>\n",
       "      <td>personal</td>\n",
       "      <td>This generation is not depressed 'because of s...</td>\n",
       "      <td>37</td>\n",
       "      <td>-0.098333</td>\n",
       "      <td>0.728333</td>\n",
       "      <td>0</td>\n",
       "      <td>2</td>\n",
       "      <td>3</td>\n",
       "      <td>0</td>\n",
       "      <td>1</td>\n",
       "      <td>...</td>\n",
       "      <td>0</td>\n",
       "      <td>0</td>\n",
       "      <td>0</td>\n",
       "      <td>0</td>\n",
       "      <td>0</td>\n",
       "      <td>0</td>\n",
       "      <td>0</td>\n",
       "      <td>0</td>\n",
       "      <td>0</td>\n",
       "      <td>1</td>\n",
       "    </tr>\n",
       "    <tr>\n",
       "      <th>9734</th>\n",
       "      <td>misc</td>\n",
       "      <td>Off to NZ :)</td>\n",
       "      <td>4</td>\n",
       "      <td>0.500000</td>\n",
       "      <td>1.000000</td>\n",
       "      <td>0</td>\n",
       "      <td>0</td>\n",
       "      <td>0</td>\n",
       "      <td>0</td>\n",
       "      <td>0</td>\n",
       "      <td>...</td>\n",
       "      <td>0</td>\n",
       "      <td>0</td>\n",
       "      <td>0</td>\n",
       "      <td>0</td>\n",
       "      <td>0</td>\n",
       "      <td>1</td>\n",
       "      <td>0</td>\n",
       "      <td>0</td>\n",
       "      <td>0</td>\n",
       "      <td>0</td>\n",
       "    </tr>\n",
       "    <tr>\n",
       "      <th>4666</th>\n",
       "      <td>personal</td>\n",
       "      <td>Wishing I could buy beer :(</td>\n",
       "      <td>6</td>\n",
       "      <td>-0.750000</td>\n",
       "      <td>1.000000</td>\n",
       "      <td>0</td>\n",
       "      <td>0</td>\n",
       "      <td>1</td>\n",
       "      <td>0</td>\n",
       "      <td>0</td>\n",
       "      <td>...</td>\n",
       "      <td>0</td>\n",
       "      <td>0</td>\n",
       "      <td>0</td>\n",
       "      <td>0</td>\n",
       "      <td>0</td>\n",
       "      <td>0</td>\n",
       "      <td>0</td>\n",
       "      <td>0</td>\n",
       "      <td>0</td>\n",
       "      <td>1</td>\n",
       "    </tr>\n",
       "    <tr>\n",
       "      <th>13089</th>\n",
       "      <td>relationships</td>\n",
       "      <td>I thought she might have been extraordinary. T...</td>\n",
       "      <td>15</td>\n",
       "      <td>-0.305556</td>\n",
       "      <td>0.966667</td>\n",
       "      <td>0</td>\n",
       "      <td>0</td>\n",
       "      <td>0</td>\n",
       "      <td>0</td>\n",
       "      <td>0</td>\n",
       "      <td>...</td>\n",
       "      <td>0</td>\n",
       "      <td>0</td>\n",
       "      <td>0</td>\n",
       "      <td>0</td>\n",
       "      <td>0</td>\n",
       "      <td>0</td>\n",
       "      <td>0</td>\n",
       "      <td>0</td>\n",
       "      <td>0</td>\n",
       "      <td>1</td>\n",
       "    </tr>\n",
       "    <tr>\n",
       "      <th>4627</th>\n",
       "      <td>relationships</td>\n",
       "      <td>I'm in love with this guy but he is always tal...</td>\n",
       "      <td>24</td>\n",
       "      <td>0.156250</td>\n",
       "      <td>0.568750</td>\n",
       "      <td>1</td>\n",
       "      <td>1</td>\n",
       "      <td>1</td>\n",
       "      <td>0</td>\n",
       "      <td>1</td>\n",
       "      <td>...</td>\n",
       "      <td>0</td>\n",
       "      <td>0</td>\n",
       "      <td>0</td>\n",
       "      <td>0</td>\n",
       "      <td>0</td>\n",
       "      <td>0</td>\n",
       "      <td>0</td>\n",
       "      <td>0</td>\n",
       "      <td>0</td>\n",
       "      <td>1</td>\n",
       "    </tr>\n",
       "    <tr>\n",
       "      <th>13990</th>\n",
       "      <td>personal</td>\n",
       "      <td>I'm so over being upset all the time :(</td>\n",
       "      <td>9</td>\n",
       "      <td>-0.750000</td>\n",
       "      <td>1.000000</td>\n",
       "      <td>0</td>\n",
       "      <td>0</td>\n",
       "      <td>1</td>\n",
       "      <td>0</td>\n",
       "      <td>0</td>\n",
       "      <td>...</td>\n",
       "      <td>0</td>\n",
       "      <td>0</td>\n",
       "      <td>0</td>\n",
       "      <td>0</td>\n",
       "      <td>0</td>\n",
       "      <td>0</td>\n",
       "      <td>0</td>\n",
       "      <td>0</td>\n",
       "      <td>0</td>\n",
       "      <td>1</td>\n",
       "    </tr>\n",
       "    <tr>\n",
       "      <th>12396</th>\n",
       "      <td>misc</td>\n",
       "      <td>Fuuuuck I done did it again :-\\</td>\n",
       "      <td>7</td>\n",
       "      <td>0.000000</td>\n",
       "      <td>0.000000</td>\n",
       "      <td>0</td>\n",
       "      <td>0</td>\n",
       "      <td>0</td>\n",
       "      <td>0</td>\n",
       "      <td>0</td>\n",
       "      <td>...</td>\n",
       "      <td>0</td>\n",
       "      <td>1</td>\n",
       "      <td>1</td>\n",
       "      <td>1</td>\n",
       "      <td>0</td>\n",
       "      <td>1</td>\n",
       "      <td>0</td>\n",
       "      <td>1</td>\n",
       "      <td>1</td>\n",
       "      <td>1</td>\n",
       "    </tr>\n",
       "    <tr>\n",
       "      <th>11793</th>\n",
       "      <td>personal</td>\n",
       "      <td>Bored sad and lonely nothing new:(</td>\n",
       "      <td>6</td>\n",
       "      <td>-0.342727</td>\n",
       "      <td>0.830909</td>\n",
       "      <td>0</td>\n",
       "      <td>0</td>\n",
       "      <td>0</td>\n",
       "      <td>0</td>\n",
       "      <td>1</td>\n",
       "      <td>...</td>\n",
       "      <td>0</td>\n",
       "      <td>0</td>\n",
       "      <td>0</td>\n",
       "      <td>0</td>\n",
       "      <td>0</td>\n",
       "      <td>0</td>\n",
       "      <td>0</td>\n",
       "      <td>0</td>\n",
       "      <td>0</td>\n",
       "      <td>1</td>\n",
       "    </tr>\n",
       "  </tbody>\n",
       "</table>\n",
       "<p>10 rows × 51 columns</p>\n",
       "</div>"
      ],
      "text/plain": [
       "            category                                               text  \\\n",
       "11409  relationships  I got together with someone and it was a long ...   \n",
       "7888            misc                               I couldn't sleep :-/   \n",
       "5299        personal  This generation is not depressed 'because of s...   \n",
       "9734            misc                                       Off to NZ :)   \n",
       "4666        personal                        Wishing I could buy beer :(   \n",
       "13089  relationships  I thought she might have been extraordinary. T...   \n",
       "4627   relationships  I'm in love with this guy but he is always tal...   \n",
       "13990       personal            I'm so over being upset all the time :(   \n",
       "12396           misc                    Fuuuuck I done did it again :-\\   \n",
       "11793       personal                 Bored sad and lonely nothing new:(   \n",
       "\n",
       "       msg_len  polarity  subjectivity  WRB  PRP$  VBG  FW  CC ...   wink  \\\n",
       "11409       40 -0.316667      0.641667    0     0    1   0   3 ...      0   \n",
       "7888         4 -0.250000      1.000000    0     0    0   0   0 ...      0   \n",
       "5299        37 -0.098333      0.728333    0     2    3   0   1 ...      0   \n",
       "9734         4  0.500000      1.000000    0     0    0   0   0 ...      0   \n",
       "4666         6 -0.750000      1.000000    0     0    1   0   0 ...      0   \n",
       "13089       15 -0.305556      0.966667    0     0    0   0   0 ...      0   \n",
       "4627        24  0.156250      0.568750    1     1    1   0   1 ...      0   \n",
       "13990        9 -0.750000      1.000000    0     0    1   0   0 ...      0   \n",
       "12396        7  0.000000      0.000000    0     0    0   0   0 ...      0   \n",
       "11793        6 -0.342727      0.830909    0     0    0   0   1 ...      0   \n",
       "\n",
       "       cry  silly  laugh  pos_emos  smile  cool  other  neg_emos  sad  \n",
       "11409    0      0      0         0      0     0      1         0    0  \n",
       "7888     1      1      1         0      1     0      1         1    1  \n",
       "5299     0      0      0         0      0     0      0         0    1  \n",
       "9734     0      0      0         0      1     0      0         0    0  \n",
       "4666     0      0      0         0      0     0      0         0    1  \n",
       "13089    0      0      0         0      0     0      0         0    1  \n",
       "4627     0      0      0         0      0     0      0         0    1  \n",
       "13990    0      0      0         0      0     0      0         0    1  \n",
       "12396    1      1      1         0      1     0      1         1    1  \n",
       "11793    0      0      0         0      0     0      0         0    1  \n",
       "\n",
       "[10 rows x 51 columns]"
      ]
     },
     "execution_count": 13,
     "metadata": {},
     "output_type": "execute_result"
    }
   ],
   "source": [
    "train[np.sum(train[['wink','cry','silly','laugh','pos_emos','smile','cool','other','neg_emos','sad']], axis=1)>0].sample(10)"
   ]
  },
  {
   "cell_type": "code",
   "execution_count": 14,
   "metadata": {
    "collapsed": false
   },
   "outputs": [],
   "source": [
    "# Extract the is_hookup indicator flag (see Messages_Exploratory.ipynb)\n",
    "train['is_hookup']=train.text.str.count(r'\\s*\\d{2,2}\\s*[MmFf]|\\s*[MmFf]\\s*\\d{1,2}|\\d\\d-\\d\\d')"
   ]
  },
  {
   "cell_type": "code",
   "execution_count": 15,
   "metadata": {
    "collapsed": false
   },
   "outputs": [
    {
     "data": {
      "text/html": [
       "<div>\n",
       "<table border=\"1\" class=\"dataframe\">\n",
       "  <thead>\n",
       "    <tr style=\"text-align: right;\">\n",
       "      <th></th>\n",
       "      <th>category</th>\n",
       "      <th>text</th>\n",
       "      <th>msg_len</th>\n",
       "      <th>polarity</th>\n",
       "      <th>subjectivity</th>\n",
       "      <th>WRB</th>\n",
       "      <th>PRP$</th>\n",
       "      <th>VBG</th>\n",
       "      <th>FW</th>\n",
       "      <th>CC</th>\n",
       "      <th>...</th>\n",
       "      <th>cry</th>\n",
       "      <th>silly</th>\n",
       "      <th>laugh</th>\n",
       "      <th>pos_emos</th>\n",
       "      <th>smile</th>\n",
       "      <th>cool</th>\n",
       "      <th>other</th>\n",
       "      <th>neg_emos</th>\n",
       "      <th>sad</th>\n",
       "      <th>is_hookup</th>\n",
       "    </tr>\n",
       "  </thead>\n",
       "  <tbody>\n",
       "    <tr>\n",
       "      <th>12341</th>\n",
       "      <td>personal</td>\n",
       "      <td>I just spent 30 minutes getting ready to send ...</td>\n",
       "      <td>13</td>\n",
       "      <td>0.050000</td>\n",
       "      <td>0.300000</td>\n",
       "      <td>0</td>\n",
       "      <td>0</td>\n",
       "      <td>1</td>\n",
       "      <td>0</td>\n",
       "      <td>0</td>\n",
       "      <td>...</td>\n",
       "      <td>0</td>\n",
       "      <td>0</td>\n",
       "      <td>0</td>\n",
       "      <td>0</td>\n",
       "      <td>0</td>\n",
       "      <td>0</td>\n",
       "      <td>0</td>\n",
       "      <td>0</td>\n",
       "      <td>0</td>\n",
       "      <td>1.0</td>\n",
       "    </tr>\n",
       "    <tr>\n",
       "      <th>470</th>\n",
       "      <td>misc</td>\n",
       "      <td>IM SO BORED.............. 19M</td>\n",
       "      <td>4</td>\n",
       "      <td>-0.500000</td>\n",
       "      <td>1.000000</td>\n",
       "      <td>0</td>\n",
       "      <td>0</td>\n",
       "      <td>0</td>\n",
       "      <td>0</td>\n",
       "      <td>0</td>\n",
       "      <td>...</td>\n",
       "      <td>0</td>\n",
       "      <td>0</td>\n",
       "      <td>0</td>\n",
       "      <td>0</td>\n",
       "      <td>0</td>\n",
       "      <td>0</td>\n",
       "      <td>0</td>\n",
       "      <td>0</td>\n",
       "      <td>0</td>\n",
       "      <td>1.0</td>\n",
       "    </tr>\n",
       "    <tr>\n",
       "      <th>8394</th>\n",
       "      <td>qna</td>\n",
       "      <td>15m but I hangout with ages 17-25 mostly, me a...</td>\n",
       "      <td>22</td>\n",
       "      <td>0.044444</td>\n",
       "      <td>0.611111</td>\n",
       "      <td>0</td>\n",
       "      <td>1</td>\n",
       "      <td>0</td>\n",
       "      <td>0</td>\n",
       "      <td>2</td>\n",
       "      <td>...</td>\n",
       "      <td>0</td>\n",
       "      <td>0</td>\n",
       "      <td>0</td>\n",
       "      <td>0</td>\n",
       "      <td>0</td>\n",
       "      <td>0</td>\n",
       "      <td>0</td>\n",
       "      <td>0</td>\n",
       "      <td>0</td>\n",
       "      <td>2.0</td>\n",
       "    </tr>\n",
       "    <tr>\n",
       "      <th>6127</th>\n",
       "      <td>meetup</td>\n",
       "      <td>Any girls in SW burbs? 33m</td>\n",
       "      <td>6</td>\n",
       "      <td>0.000000</td>\n",
       "      <td>0.000000</td>\n",
       "      <td>0</td>\n",
       "      <td>0</td>\n",
       "      <td>0</td>\n",
       "      <td>0</td>\n",
       "      <td>0</td>\n",
       "      <td>...</td>\n",
       "      <td>0</td>\n",
       "      <td>0</td>\n",
       "      <td>0</td>\n",
       "      <td>0</td>\n",
       "      <td>0</td>\n",
       "      <td>0</td>\n",
       "      <td>0</td>\n",
       "      <td>0</td>\n",
       "      <td>0</td>\n",
       "      <td>1.0</td>\n",
       "    </tr>\n",
       "    <tr>\n",
       "      <th>11983</th>\n",
       "      <td>meetup</td>\n",
       "      <td>Any gay guys 15-20 wanna chat</td>\n",
       "      <td>6</td>\n",
       "      <td>0.416667</td>\n",
       "      <td>0.583333</td>\n",
       "      <td>0</td>\n",
       "      <td>0</td>\n",
       "      <td>0</td>\n",
       "      <td>0</td>\n",
       "      <td>0</td>\n",
       "      <td>...</td>\n",
       "      <td>0</td>\n",
       "      <td>0</td>\n",
       "      <td>0</td>\n",
       "      <td>0</td>\n",
       "      <td>0</td>\n",
       "      <td>0</td>\n",
       "      <td>0</td>\n",
       "      <td>0</td>\n",
       "      <td>0</td>\n",
       "      <td>1.0</td>\n",
       "    </tr>\n",
       "  </tbody>\n",
       "</table>\n",
       "<p>5 rows × 52 columns</p>\n",
       "</div>"
      ],
      "text/plain": [
       "       category                                               text  msg_len  \\\n",
       "12341  personal  I just spent 30 minutes getting ready to send ...       13   \n",
       "470        misc                      IM SO BORED.............. 19M        4   \n",
       "8394        qna  15m but I hangout with ages 17-25 mostly, me a...       22   \n",
       "6127     meetup                         Any girls in SW burbs? 33m        6   \n",
       "11983    meetup                      Any gay guys 15-20 wanna chat        6   \n",
       "\n",
       "       polarity  subjectivity  WRB  PRP$  VBG  FW  CC    ...      cry  silly  \\\n",
       "12341  0.050000      0.300000    0     0    1   0   0    ...        0      0   \n",
       "470   -0.500000      1.000000    0     0    0   0   0    ...        0      0   \n",
       "8394   0.044444      0.611111    0     1    0   0   2    ...        0      0   \n",
       "6127   0.000000      0.000000    0     0    0   0   0    ...        0      0   \n",
       "11983  0.416667      0.583333    0     0    0   0   0    ...        0      0   \n",
       "\n",
       "       laugh  pos_emos  smile  cool  other  neg_emos  sad  is_hookup  \n",
       "12341      0         0      0     0      0         0    0        1.0  \n",
       "470        0         0      0     0      0         0    0        1.0  \n",
       "8394       0         0      0     0      0         0    0        2.0  \n",
       "6127       0         0      0     0      0         0    0        1.0  \n",
       "11983      0         0      0     0      0         0    0        1.0  \n",
       "\n",
       "[5 rows x 52 columns]"
      ]
     },
     "execution_count": 15,
     "metadata": {},
     "output_type": "execute_result"
    }
   ],
   "source": [
    "train[train['is_hookup']>0].sample(5)"
   ]
  },
  {
   "cell_type": "code",
   "execution_count": null,
   "metadata": {
    "collapsed": true
   },
   "outputs": [],
   "source": [
    "# now, need to tokenize the main text messages and vectorize\n",
    "\n",
    "## lowercase\n",
    "## remove stopwords\n",
    "## remove punctuations and apostrophes\n",
    "## consider len > 1\n",
    "## remove numerics\n",
    "## tfidf across entire document\n"
   ]
  },
  {
   "cell_type": "code",
   "execution_count": 16,
   "metadata": {
    "collapsed": true
   },
   "outputs": [],
   "source": [
    "from nltk.tokenize import word_tokenize\n",
    "from nltk.corpus import stopwords\n",
    "from nltk.stem import PorterStemmer"
   ]
  },
  {
   "cell_type": "code",
   "execution_count": 17,
   "metadata": {
    "collapsed": true
   },
   "outputs": [],
   "source": [
    "def clean_msgs(msg):\n",
    "    \"\"\"\n",
    "    Takes a string and returns an alphabet only, lowercase, stopped, stemmed, and tokenize-able string\n",
    "    \"\"\"\n",
    "    \n",
    "    #if missing, impute with \"msngval\"\n",
    "    if not msg:\n",
    "        msg=u'msngval'\n",
    "    else:\n",
    "        msg=str(msg).decode('UTF-8')\n",
    "    \n",
    "        #alphabets only\n",
    "        msg = re.sub('[^a-zA-Z]',' ', msg)\n",
    "\n",
    "        msg = msg.lower().split()\n",
    "\n",
    "        #remove stopwords\n",
    "        stops = set(stopwords.words('english'))\n",
    "        msg = [word for word in msg if not word in stops]\n",
    "\n",
    "        #stem\n",
    "        p=PorterStemmer()\n",
    "        msg = [p.stem(word) for word in msg]\n",
    "    \n",
    "    return \" \".join(msg).decode('utf8')"
   ]
  },
  {
   "cell_type": "code",
   "execution_count": 18,
   "metadata": {
    "collapsed": false
   },
   "outputs": [],
   "source": [
    "corpus =[]\n",
    "for i in np.arange(0,train.shape[0]):\n",
    "    corpus.append(clean_msgs(train['text'][i]))"
   ]
  },
  {
   "cell_type": "code",
   "execution_count": 19,
   "metadata": {
    "collapsed": false
   },
   "outputs": [
    {
     "data": {
      "text/plain": [
       "14048"
      ]
     },
     "execution_count": 19,
     "metadata": {},
     "output_type": "execute_result"
    }
   ],
   "source": [
    "len(corpus)"
   ]
  },
  {
   "cell_type": "code",
   "execution_count": 20,
   "metadata": {
    "collapsed": true
   },
   "outputs": [],
   "source": [
    "# Ready for BOW\n",
    "tfidf_vect = TfidfVectorizer(lowercase=False,analyzer='word', ngram_range=(1,1), stop_words='english', \n",
    "                              use_idf=True, smooth_idf=True, min_df=1)"
   ]
  },
  {
   "cell_type": "code",
   "execution_count": 21,
   "metadata": {
    "collapsed": false
   },
   "outputs": [],
   "source": [
    "X = tfidf_vect.fit_transform(corpus)"
   ]
  },
  {
   "cell_type": "code",
   "execution_count": 22,
   "metadata": {
    "collapsed": false
   },
   "outputs": [
    {
     "data": {
      "text/plain": [
       "0.68253678962209852"
      ]
     },
     "execution_count": 22,
     "metadata": {},
     "output_type": "execute_result"
    }
   ],
   "source": [
    "X.toarray()[900].max()"
   ]
  },
  {
   "cell_type": "code",
   "execution_count": 23,
   "metadata": {
    "collapsed": false
   },
   "outputs": [],
   "source": [
    "BOW_feats=X.toarray()"
   ]
  },
  {
   "cell_type": "code",
   "execution_count": 24,
   "metadata": {
    "collapsed": true
   },
   "outputs": [],
   "source": [
    "#impute missing values to 0 (NaNs resulted from empty strings)\n",
    "train.iloc[:,2:]=train.iloc[:,2:].apply(lambda val: val.fillna(0), axis=1)"
   ]
  },
  {
   "cell_type": "code",
   "execution_count": 25,
   "metadata": {
    "collapsed": false
   },
   "outputs": [],
   "source": [
    "finX = np.concatenate((BOW_feats, train.iloc[:,2:]), axis=1)"
   ]
  },
  {
   "cell_type": "code",
   "execution_count": 30,
   "metadata": {
    "collapsed": false
   },
   "outputs": [
    {
     "data": {
      "text/plain": [
       "(14048, 7598)"
      ]
     },
     "execution_count": 30,
     "metadata": {},
     "output_type": "execute_result"
    }
   ],
   "source": [
    "finX.shape"
   ]
  },
  {
   "cell_type": "code",
   "execution_count": 60,
   "metadata": {
    "collapsed": false
   },
   "outputs": [],
   "source": [
    "#xtrain, xtest, ytrain, ytest = train_test_split(finX, train.category, stratify=train.category)"
   ]
  },
  {
   "cell_type": "code",
   "execution_count": 28,
   "metadata": {
    "collapsed": false
   },
   "outputs": [
    {
     "data": {
      "text/plain": [
       "LogisticRegression(C=1.0, class_weight='balanced', dual=False,\n",
       "          fit_intercept=True, intercept_scaling=1, max_iter=100,\n",
       "          multi_class='ovr', n_jobs=1, penalty='l2', random_state=None,\n",
       "          solver='liblinear', tol=0.0001, verbose=0, warm_start=False)"
      ]
     },
     "execution_count": 28,
     "metadata": {},
     "output_type": "execute_result"
    }
   ],
   "source": []
  },
  {
   "cell_type": "code",
   "execution_count": 34,
   "metadata": {
    "collapsed": false
   },
   "outputs": [
    {
     "name": "stdout",
     "output_type": "stream",
     "text": [
      "('List of arrays in this file: \\n', [u'dataset_1'])\n",
      "('Shape of the array dataset_1: \\n', (14048, 50))\n"
     ]
    }
   ],
   "source": [
    "#test read\n",
    "import h5py\n",
    "with h5py.File('./../pickles/final_training_data.h5','r') as hf:\n",
    "    print('List of arrays in this file: \\n', hf.keys())\n",
    "    data = hf.get('dataset_1')\n",
    "    train_dat = np.array(data)\n",
    "    print('Shape of the array dataset_1: \\n', train_dat.shape)"
   ]
  },
  {
   "cell_type": "code",
   "execution_count": 36,
   "metadata": {
    "collapsed": true
   },
   "outputs": [],
   "source": [
    "xtrain, xtest, ytrain, ytest = train_test_split(train_dat, train.category, stratify=train.category)"
   ]
  },
  {
   "cell_type": "code",
   "execution_count": 39,
   "metadata": {
    "collapsed": false
   },
   "outputs": [],
   "source": [
    "clf_LR = LogisticRegression(class_weight=None)\n",
    "clf_LR.fit(xtrain, ytrain)\n",
    "preds = clf_LR.predict(xtest)"
   ]
  },
  {
   "cell_type": "code",
   "execution_count": 40,
   "metadata": {
    "collapsed": false
   },
   "outputs": [
    {
     "name": "stderr",
     "output_type": "stream",
     "text": [
      "/Users/ash/anaconda/lib/python2.7/site-packages/sklearn/metrics/classification.py:1074: UndefinedMetricWarning: F-score is ill-defined and being set to 0.0 in labels with no predicted samples.\n",
      "  'precision', 'predicted', average, warn_for)\n"
     ]
    },
    {
     "data": {
      "text/plain": [
       "0.13543211510514758"
      ]
     },
     "execution_count": 40,
     "metadata": {},
     "output_type": "execute_result"
    }
   ],
   "source": [
    "f1_score(ytest, preds, average='macro')"
   ]
  },
  {
   "cell_type": "code",
   "execution_count": null,
   "metadata": {
    "collapsed": true
   },
   "outputs": [],
   "source": []
  },
  {
   "cell_type": "code",
   "execution_count": null,
   "metadata": {
    "collapsed": true
   },
   "outputs": [],
   "source": []
  },
  {
   "cell_type": "code",
   "execution_count": null,
   "metadata": {
    "collapsed": true
   },
   "outputs": [],
   "source": []
  },
  {
   "cell_type": "code",
   "execution_count": null,
   "metadata": {
    "collapsed": true
   },
   "outputs": [],
   "source": []
  },
  {
   "cell_type": "code",
   "execution_count": 70,
   "metadata": {
    "collapsed": false
   },
   "outputs": [
    {
     "data": {
      "text/plain": [
       "(10536, 50)"
      ]
     },
     "execution_count": 70,
     "metadata": {},
     "output_type": "execute_result"
    }
   ],
   "source": [
    "xtrain[:,7548:].shape"
   ]
  },
  {
   "cell_type": "code",
   "execution_count": 74,
   "metadata": {
    "collapsed": true
   },
   "outputs": [],
   "source": [
    "#scale test and train here\n",
    "std_scale_train = preprocessing.MinMaxScaler().fit_transform(xtrain[:,7548:])\n",
    "std_scale_test = preprocessing.MinMaxScaler().fit_transform(xtest[:,7548:])\n",
    "\n",
    "\n",
    "Xtrain = np.concatenate((xtrain[:,:7548],xtrain[:,7548:]), axis=1)\n",
    "Xtest = np.concatenate((xtest[:,:7548],xtest[:,7548:]), axis=1)"
   ]
  },
  {
   "cell_type": "code",
   "execution_count": 77,
   "metadata": {
    "collapsed": false
   },
   "outputs": [
    {
     "data": {
      "text/plain": [
       "((10536, 7598), (3513, 7598))"
      ]
     },
     "execution_count": 77,
     "metadata": {},
     "output_type": "execute_result"
    }
   ],
   "source": [
    "Xtrain.shape, Xtest.shape"
   ]
  },
  {
   "cell_type": "code",
   "execution_count": 88,
   "metadata": {
    "collapsed": true
   },
   "outputs": [],
   "source": [
    "clf = LogisticRegression(class_weight='balanced')"
   ]
  },
  {
   "cell_type": "code",
   "execution_count": 89,
   "metadata": {
    "collapsed": false
   },
   "outputs": [
    {
     "data": {
      "text/plain": [
       "LogisticRegression(C=1.0, class_weight='balanced', dual=False,\n",
       "          fit_intercept=True, intercept_scaling=1, max_iter=100,\n",
       "          multi_class='ovr', n_jobs=1, penalty='l2', random_state=None,\n",
       "          solver='liblinear', tol=0.0001, verbose=0, warm_start=False)"
      ]
     },
     "execution_count": 89,
     "metadata": {},
     "output_type": "execute_result"
    }
   ],
   "source": [
    "clf.fit(Xtrain, ytrain)"
   ]
  },
  {
   "cell_type": "code",
   "execution_count": 90,
   "metadata": {
    "collapsed": false
   },
   "outputs": [],
   "source": [
    "preds = clf.predict(Xtest)"
   ]
  },
  {
   "cell_type": "code",
   "execution_count": 91,
   "metadata": {
    "collapsed": false
   },
   "outputs": [],
   "source": [
    "macrof1 = f1_score(ytest, preds, average='macro')"
   ]
  },
  {
   "cell_type": "code",
   "execution_count": 92,
   "metadata": {
    "collapsed": false
   },
   "outputs": [
    {
     "data": {
      "text/plain": [
       "0.51201018622816563"
      ]
     },
     "execution_count": 92,
     "metadata": {},
     "output_type": "execute_result"
    }
   ],
   "source": [
    "macrof1"
   ]
  },
  {
   "cell_type": "code",
   "execution_count": 84,
   "metadata": {
    "collapsed": true
   },
   "outputs": [],
   "source": [
    "from sklearn.metrics import classification_report\n"
   ]
  },
  {
   "cell_type": "code",
   "execution_count": 93,
   "metadata": {
    "collapsed": false
   },
   "outputs": [
    {
     "name": "stdout",
     "output_type": "stream",
     "text": [
      "             precision    recall  f1-score   support\n",
      "\n",
      "    animals       0.67      0.76      0.71        37\n",
      "      faith       0.23      0.25      0.24        12\n",
      "     family       0.50      0.78      0.61       111\n",
      "    fashion       0.24      0.50      0.33        34\n",
      "       food       0.48      0.57      0.52        67\n",
      "      lgbtq       0.75      0.60      0.66       136\n",
      "     meetup       0.78      0.77      0.78       736\n",
      "   military       0.38      0.45      0.42        11\n",
      "       misc       0.49      0.47      0.48       680\n",
      "   personal       0.62      0.50      0.55       890\n",
      "pop_culture       0.38      0.44      0.40       130\n",
      "        qna       0.33      0.36      0.34       227\n",
      "relationships       0.55      0.57      0.56       290\n",
      "     school       0.58      0.64      0.60        66\n",
      "     sports       0.27      0.47      0.34        15\n",
      "     tatoos       0.65      0.71      0.68        21\n",
      "       work       0.36      0.70      0.47        50\n",
      "\n",
      "avg / total       0.58      0.57      0.57      3513\n",
      "\n"
     ]
    }
   ],
   "source": [
    "print (classification_report(ytest, preds))"
   ]
  },
  {
   "cell_type": "code",
   "execution_count": 95,
   "metadata": {
    "collapsed": false
   },
   "outputs": [
    {
     "data": {
      "text/plain": [
       "RandomForestClassifier(bootstrap=True, class_weight='balanced_subsample',\n",
       "            criterion='gini', max_depth=None, max_features='auto',\n",
       "            max_leaf_nodes=None, min_samples_leaf=1, min_samples_split=2,\n",
       "            min_weight_fraction_leaf=0.0, n_estimators=500, n_jobs=-1,\n",
       "            oob_score=False, random_state=None, verbose=0,\n",
       "            warm_start=False)"
      ]
     },
     "execution_count": 95,
     "metadata": {},
     "output_type": "execute_result"
    }
   ],
   "source": [
    "clf_rf = RandomForestClassifier(class_weight='balanced_subsample', n_jobs=-1, n_estimators=500)\n",
    "clf_rf.fit(Xtrain, ytrain)"
   ]
  },
  {
   "cell_type": "code",
   "execution_count": 99,
   "metadata": {
    "collapsed": false
   },
   "outputs": [
    {
     "name": "stdout",
     "output_type": "stream",
     "text": [
      "             precision    recall  f1-score   support\n",
      "\n",
      "    animals       0.71      0.68      0.69        37\n",
      "      faith       0.00      0.00      0.00        12\n",
      "     family       0.69      0.30      0.42       111\n",
      "    fashion       1.00      0.03      0.06        34\n",
      "       food       0.67      0.15      0.24        67\n",
      "      lgbtq       0.79      0.38      0.51       136\n",
      "     meetup       0.67      0.80      0.73       736\n",
      "   military       1.00      0.09      0.17        11\n",
      "       misc       0.50      0.43      0.46       680\n",
      "   personal       0.43      0.81      0.56       890\n",
      "pop_culture       0.82      0.07      0.13       130\n",
      "        qna       0.50      0.09      0.16       227\n",
      "relationships       0.82      0.23      0.36       290\n",
      "     school       0.73      0.24      0.36        66\n",
      "     sports       0.00      0.00      0.00        15\n",
      "     tatoos       0.76      0.62      0.68        21\n",
      "       work       0.62      0.20      0.30        50\n",
      "\n",
      "avg / total       0.59      0.53      0.49      3513\n",
      "\n",
      "('MACRO: ', 0.3438034426954491)\n"
     ]
    }
   ],
   "source": [
    "rfpreds = clf_rf.predict(Xtest)\n",
    "print (classification_report(ytest, rfpreds))\n",
    "print (\"MACRO: \", f1_score(ytest, rfpreds, average='macro'))\n"
   ]
  },
  {
   "cell_type": "code",
   "execution_count": 100,
   "metadata": {
    "collapsed": false
   },
   "outputs": [
    {
     "name": "stdout",
     "output_type": "stream",
     "text": [
      "             precision    recall  f1-score   support\n",
      "\n",
      "    animals       0.00      0.00      0.00        37\n",
      "      faith       0.00      0.00      0.00        12\n",
      "     family       0.13      0.35      0.19       111\n",
      "    fashion       0.03      0.15      0.05        34\n",
      "       food       0.00      0.00      0.00        67\n",
      "      lgbtq       0.00      0.00      0.00       136\n",
      "     meetup       0.29      0.83      0.43       736\n",
      "   military       0.01      0.09      0.01        11\n",
      "       misc       0.14      0.00      0.00       680\n",
      "   personal       0.49      0.08      0.14       890\n",
      "pop_culture       0.16      0.10      0.12       130\n",
      "        qna       0.14      0.08      0.10       227\n",
      "relationships       0.22      0.21      0.22       290\n",
      "     school       0.00      0.00      0.00        66\n",
      "     sports       0.00      0.00      0.00        15\n",
      "     tatoos       0.00      0.00      0.00        21\n",
      "       work       0.05      0.06      0.05        50\n",
      "\n",
      "avg / total       0.25      0.23      0.16      3513\n",
      "\n",
      "('MACRO: ', 0.077740904348497716)\n"
     ]
    }
   ],
   "source": [
    "#SVM\n",
    "clf_svc = SVC(class_weight='balanced', kernel='linear')\n",
    "clf_svc.fit(Xtrain, ytrain)\n",
    "svmpreds = clf_svc.predict(Xtest)\n",
    "print (classification_report(ytest, svmpreds))\n",
    "print (\"MACRO: \", f1_score(ytest, svmpreds, average='macro'))\n"
   ]
  },
  {
   "cell_type": "code",
   "execution_count": 103,
   "metadata": {
    "collapsed": true
   },
   "outputs": [],
   "source": [
    "#GAUSSIAN NB\n",
    "\n",
    "from sklearn.naive_bayes import GaussianNB\n",
    "\n"
   ]
  },
  {
   "cell_type": "code",
   "execution_count": 104,
   "metadata": {
    "collapsed": false
   },
   "outputs": [
    {
     "name": "stdout",
     "output_type": "stream",
     "text": [
      "             precision    recall  f1-score   support\n",
      "\n",
      "    animals       0.06      0.19      0.10        37\n",
      "      faith       0.00      0.00      0.00        12\n",
      "     family       0.12      0.26      0.16       111\n",
      "    fashion       0.05      0.12      0.07        34\n",
      "       food       0.16      0.28      0.21        67\n",
      "      lgbtq       0.13      0.43      0.20       136\n",
      "     meetup       0.43      0.17      0.25       736\n",
      "   military       0.02      0.09      0.03        11\n",
      "       misc       0.23      0.12      0.16       680\n",
      "   personal       0.39      0.22      0.28       890\n",
      "pop_culture       0.26      0.28      0.27       130\n",
      "        qna       0.11      0.11      0.11       227\n",
      "relationships       0.20      0.20      0.20       290\n",
      "     school       0.10      0.21      0.13        66\n",
      "     sports       0.10      0.20      0.14        15\n",
      "     tatoos       0.02      0.24      0.04        21\n",
      "       work       0.04      0.16      0.07        50\n",
      "\n",
      "avg / total       0.28      0.19      0.21      3513\n",
      "\n",
      "('MACRO: ', 0.14195819911553079)\n"
     ]
    }
   ],
   "source": [
    "clf_nb = GaussianNB()\n",
    "clf_nb.fit(Xtrain, ytrain)\n",
    "nbpreds = clf_nb.predict(Xtest)\n",
    "print (classification_report(ytest, nbpreds))\n",
    "print (\"MACRO: \", f1_score(ytest, nbpreds, average='macro'))\n"
   ]
  },
  {
   "cell_type": "code",
   "execution_count": 105,
   "metadata": {
    "collapsed": true
   },
   "outputs": [],
   "source": [
    "from sklearn.decomposition import PCA\n"
   ]
  },
  {
   "cell_type": "code",
   "execution_count": 109,
   "metadata": {
    "collapsed": true
   },
   "outputs": [],
   "source": [
    "dimred = PCA(n_components=0.99)"
   ]
  },
  {
   "cell_type": "code",
   "execution_count": 110,
   "metadata": {
    "collapsed": false
   },
   "outputs": [],
   "source": [
    "red = dimred.fit_transform(Xtrain)"
   ]
  },
  {
   "cell_type": "code",
   "execution_count": 120,
   "metadata": {
    "collapsed": false
   },
   "outputs": [
    {
     "data": {
      "text/plain": [
       "((10536, 30), (10536, 7598))"
      ]
     },
     "execution_count": 120,
     "metadata": {},
     "output_type": "execute_result"
    }
   ],
   "source": [
    "red.shape, Xtrain.shape"
   ]
  },
  {
   "cell_type": "code",
   "execution_count": 114,
   "metadata": {
    "collapsed": false
   },
   "outputs": [
    {
     "name": "stdout",
     "output_type": "stream",
     "text": [
      "             precision    recall  f1-score   support\n",
      "\n",
      "    animals       0.67      0.76      0.71        37\n",
      "      faith       0.23      0.25      0.24        12\n",
      "     family       0.50      0.78      0.61       111\n",
      "    fashion       0.24      0.50      0.33        34\n",
      "       food       0.48      0.57      0.52        67\n",
      "      lgbtq       0.75      0.60      0.66       136\n",
      "     meetup       0.78      0.77      0.78       736\n",
      "   military       0.38      0.45      0.42        11\n",
      "       misc       0.49      0.47      0.48       680\n",
      "   personal       0.62      0.50      0.55       890\n",
      "pop_culture       0.38      0.44      0.40       130\n",
      "        qna       0.33      0.36      0.34       227\n",
      "relationships       0.55      0.57      0.56       290\n",
      "     school       0.58      0.64      0.60        66\n",
      "     sports       0.27      0.47      0.34        15\n",
      "     tatoos       0.65      0.71      0.68        21\n",
      "       work       0.36      0.70      0.47        50\n",
      "\n",
      "avg / total       0.58      0.57      0.57      3513\n",
      "\n",
      "('MACRO F1 = ', 0.51201018622816563)\n"
     ]
    }
   ],
   "source": [
    "#30 features explain 99% of the variance in this model. This is awesome and helps us drop thousnds of features.\n",
    "#Will it do as well as the original?\n",
    "clf_pca = LogisticRegression(class_weight='balanced')\n",
    "clf_pca.fit(red, ytrain)\n",
    "\n",
    "preds_red = clf.predict(Xtest)\n",
    "print (classification_report(ytest, preds_red))\n",
    "print (\"MACRO F1 = \", f1_score(ytest, preds_red, average='macro'))\n"
   ]
  },
  {
   "cell_type": "code",
   "execution_count": 115,
   "metadata": {
    "collapsed": true
   },
   "outputs": [],
   "source": [
    "#NOT BAD AT ALL! PCA allowed us to use a much smaller model to get almost the same performance!"
   ]
  },
  {
   "cell_type": "code",
   "execution_count": null,
   "metadata": {
    "collapsed": true
   },
   "outputs": [],
   "source": []
  },
  {
   "cell_type": "code",
   "execution_count": null,
   "metadata": {
    "collapsed": true
   },
   "outputs": [],
   "source": []
  },
  {
   "cell_type": "code",
   "execution_count": null,
   "metadata": {
    "collapsed": true
   },
   "outputs": [],
   "source": []
  },
  {
   "cell_type": "code",
   "execution_count": null,
   "metadata": {
    "collapsed": true
   },
   "outputs": [],
   "source": []
  },
  {
   "cell_type": "code",
   "execution_count": null,
   "metadata": {
    "collapsed": true
   },
   "outputs": [],
   "source": []
  },
  {
   "cell_type": "code",
   "execution_count": null,
   "metadata": {
    "collapsed": true
   },
   "outputs": [],
   "source": []
  },
  {
   "cell_type": "code",
   "execution_count": null,
   "metadata": {
    "collapsed": true
   },
   "outputs": [],
   "source": []
  },
  {
   "cell_type": "code",
   "execution_count": null,
   "metadata": {
    "collapsed": true
   },
   "outputs": [],
   "source": []
  },
  {
   "cell_type": "code",
   "execution_count": null,
   "metadata": {
    "collapsed": true
   },
   "outputs": [],
   "source": []
  },
  {
   "cell_type": "code",
   "execution_count": null,
   "metadata": {
    "collapsed": false
   },
   "outputs": [],
   "source": [
    "BOW_feats=X.toarray()"
   ]
  },
  {
   "cell_type": "code",
   "execution_count": null,
   "metadata": {
    "collapsed": false
   },
   "outputs": [],
   "source": [
    "BOW_feats.shape"
   ]
  },
  {
   "cell_type": "code",
   "execution_count": null,
   "metadata": {
    "collapsed": false
   },
   "outputs": [],
   "source": [
    "tfidf_vect.get_feature_names()"
   ]
  },
  {
   "cell_type": "code",
   "execution_count": null,
   "metadata": {
    "collapsed": false
   },
   "outputs": [],
   "source": [
    "BOW_feats.shape"
   ]
  },
  {
   "cell_type": "code",
   "execution_count": null,
   "metadata": {
    "collapsed": false
   },
   "outputs": [],
   "source": [
    "train.columns"
   ]
  },
  {
   "cell_type": "code",
   "execution_count": null,
   "metadata": {
    "collapsed": false
   },
   "outputs": [],
   "source": [
    "#impute missing values to 0 (NaNs resulted from empty strings)\n",
    "train.iloc[:,2:]=train.iloc[:,2:].apply(lambda val: val.fillna(0), axis=1)"
   ]
  },
  {
   "cell_type": "code",
   "execution_count": null,
   "metadata": {
    "collapsed": false
   },
   "outputs": [],
   "source": [
    "fin_X = np.concatenate((BOW_feats, train.iloc[:,2:]), axis=1)"
   ]
  },
  {
   "cell_type": "code",
   "execution_count": null,
   "metadata": {
    "collapsed": false
   },
   "outputs": [],
   "source": [
    "fin_X.shape"
   ]
  },
  {
   "cell_type": "code",
   "execution_count": null,
   "metadata": {
    "collapsed": true
   },
   "outputs": [],
   "source": [
    "from sklearn import preprocessing"
   ]
  },
  {
   "cell_type": "code",
   "execution_count": null,
   "metadata": {
    "collapsed": false
   },
   "outputs": [],
   "source": [
    "fin_X_scaled = preprocessing.scale(fin_X, axis=1)"
   ]
  },
  {
   "cell_type": "code",
   "execution_count": null,
   "metadata": {
    "collapsed": false
   },
   "outputs": [],
   "source": [
    "fin_X_scaled.shape"
   ]
  },
  {
   "cell_type": "code",
   "execution_count": 117,
   "metadata": {
    "collapsed": true
   },
   "outputs": [],
   "source": [
    "import h5py"
   ]
  },
  {
   "cell_type": "code",
   "execution_count": null,
   "metadata": {
    "collapsed": false
   },
   "outputs": [],
   "source": [
    "with h5py.File('./../pickles/train_feature_mat.h5', 'w') as hf:\n",
    "    hf.create_dataset('dataset_1', data=fin_X_scaled, compression='gzip', compression_opts=9)"
   ]
  },
  {
   "cell_type": "code",
   "execution_count": 118,
   "metadata": {
    "collapsed": false
   },
   "outputs": [
    {
     "name": "stdout",
     "output_type": "stream",
     "text": [
      "('List of arrays in this file: \\n', [u'dataset_1'])\n",
      "('Shape of the array dataset_1: \\n', (14048, 7728))\n"
     ]
    }
   ],
   "source": [
    "#test read\n",
    "with h5py.File('./../pickles/train.h5','r') as hf:\n",
    "    print('List of arrays in this file: \\n', hf.keys())\n",
    "    data = hf.get('dataset_1')\n",
    "    np_data = np.array(data)\n",
    "    print('Shape of the array dataset_1: \\n', np_data.shape)"
   ]
  },
  {
   "cell_type": "code",
   "execution_count": 119,
   "metadata": {
    "collapsed": false
   },
   "outputs": [
    {
     "data": {
      "text/plain": [
       "(14048, 7728)"
      ]
     },
     "execution_count": 119,
     "metadata": {},
     "output_type": "execute_result"
    }
   ],
   "source": [
    "np_data.shape"
   ]
  },
  {
   "cell_type": "code",
   "execution_count": null,
   "metadata": {
    "collapsed": false
   },
   "outputs": [],
   "source": [
    "np_data"
   ]
  },
  {
   "cell_type": "code",
   "execution_count": null,
   "metadata": {
    "collapsed": false
   },
   "outputs": [],
   "source": [
    "\n",
    "train.category.to_csv('./../pickles/training_targets.csv',header=True, index=False)"
   ]
  },
  {
   "cell_type": "code",
   "execution_count": null,
   "metadata": {
    "collapsed": false
   },
   "outputs": [],
   "source": [
    "type(target.category)"
   ]
  },
  {
   "cell_type": "code",
   "execution_count": null,
   "metadata": {
    "collapsed": true
   },
   "outputs": [],
   "source": []
  }
 ],
 "metadata": {
  "kernelspec": {
   "display_name": "Python 2",
   "language": "python",
   "name": "python2"
  },
  "language_info": {
   "codemirror_mode": {
    "name": "ipython",
    "version": 2
   },
   "file_extension": ".py",
   "mimetype": "text/x-python",
   "name": "python",
   "nbconvert_exporter": "python",
   "pygments_lexer": "ipython2",
   "version": "2.7.11"
  }
 },
 "nbformat": 4,
 "nbformat_minor": 0
}
